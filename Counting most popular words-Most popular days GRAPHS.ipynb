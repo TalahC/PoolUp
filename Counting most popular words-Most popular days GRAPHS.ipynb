{
 "cells": [
  {
   "cell_type": "code",
   "execution_count": null,
   "metadata": {
    "ExecuteTime": {
     "start_time": "2021-04-23T08:01:50.910Z"
    }
   },
   "outputs": [],
   "source": [
    "import pandas as pd"
   ]
  },
  {
   "cell_type": "code",
   "execution_count": null,
   "metadata": {
    "ExecuteTime": {
     "start_time": "2021-04-23T08:01:50.911Z"
    }
   },
   "outputs": [],
   "source": [
    "import plotly \n",
    "import plotly.graph_objs as go\n",
    "plotly.offline.init_notebook_mode()"
   ]
  },
  {
   "cell_type": "code",
   "execution_count": null,
   "metadata": {
    "ExecuteTime": {
     "start_time": "2021-04-23T08:01:50.914Z"
    }
   },
   "outputs": [],
   "source": [
    "sjsu= pd.read_csv('sjsu feb 2018 to now .csv')\n",
    "sjsu.post = sjsu.post.astype(str)\n",
    "\n",
    "from collections import Counter\n",
    "Counter(\" \".join(sjsu[\"post\"]).split()).most_common(300)\n"
   ]
  },
  {
   "cell_type": "code",
   "execution_count": null,
   "metadata": {
    "ExecuteTime": {
     "start_time": "2021-04-23T08:01:50.916Z"
    }
   },
   "outputs": [],
   "source": [
    "uci= pd.read_csv('UCI novemeber 2017 to now.csv')\n",
    "uci.post = uci.post.astype(str)\n",
    "\n",
    "from collections import Counter\n",
    "Counter(\" \".join(uci[\"post\"]).split()).most_common(300)"
   ]
  },
  {
   "cell_type": "code",
   "execution_count": null,
   "metadata": {
    "ExecuteTime": {
     "start_time": "2021-04-23T08:01:50.917Z"
    }
   },
   "outputs": [],
   "source": [
    "ucsd_sdsu= pd.read_csv('UCSD:SDSU rideshare group Nov 2014 to present.csv')\n",
    "ucsd_sdsu.post = ucsd_sdsu.post.astype(str)\n",
    "\n",
    "from collections import Counter\n",
    "Counter(\" \".join(ucsd_sdsu[\"post\"]).split()).most_common(300)"
   ]
  },
  {
   "cell_type": "code",
   "execution_count": null,
   "metadata": {
    "ExecuteTime": {
     "start_time": "2021-04-23T08:01:50.919Z"
    }
   },
   "outputs": [],
   "source": [
    "uc_berk= pd.read_csv('UC Berkley oct 2018.csv')\n",
    "uc_berk.post = uc_berk.post.astype(str)\n",
    "\n",
    "from collections import Counter\n",
    "Counter(\" \".join(uc_berk[\"post\"]).split()).most_common(300)"
   ]
  },
  {
   "cell_type": "code",
   "execution_count": null,
   "metadata": {
    "ExecuteTime": {
     "start_time": "2021-04-23T08:01:50.920Z"
    }
   },
   "outputs": [],
   "source": [
    "UCSB_Socal=pd.read_excel('scraped.xlsx')\n",
    "UCSB_Socal.post = UCSB_Socal.post.astype(str)\n",
    "from collections import Counter\n",
    "Counter(\" \".join(UCSB_Socal[\"post\"]).split()).most_common(300)"
   ]
  },
  {
   "cell_type": "code",
   "execution_count": null,
   "metadata": {
    "ExecuteTime": {
     "start_time": "2021-04-23T08:01:50.924Z"
    }
   },
   "outputs": [],
   "source": [
    "ucla= pd.read_csv('UCLA rideshare Jan 2019 to now.csv')\n",
    "ucla.post=ucla.post.astype(str)\n",
    "from collections import Counter\n",
    "Counter(\" \".join(ucla[\"post\"]).split()).most_common(300)"
   ]
  },
  {
   "cell_type": "markdown",
   "metadata": {},
   "source": [
    "# Finding the most popular days to Rideshare"
   ]
  },
  {
   "cell_type": "code",
   "execution_count": null,
   "metadata": {
    "ExecuteTime": {
     "start_time": "2021-04-23T08:01:50.927Z"
    }
   },
   "outputs": [],
   "source": [
    "\n",
    "##ucsb socal\n",
    "#Friday 1152 +133 +56 = 1341\n",
    "#Sunday 836 +117  = 953\n",
    "#thursday 572 +74 = 646\n",
    "#monday 457 +64 = 521\n",
    "#Saturday 418 \n",
    "#Tuesday 314\n",
    "#wednesday 285\n",
    "#\n",
    "\n",
    "###ucberk\n",
    "#friday 654 +88 +74 = 816\n",
    "#Sunday 623 +78 +56 = 757\n",
    "#monday 327 +39 +39  = 405\n",
    "#Thursday 281\n",
    "# saturday 261\n",
    "#wednesday 155\n",
    "#tuesday 155\n",
    "\n",
    "##ucla\n",
    "#friday 1445 +135 +126 = 1706\n",
    "#sunday 1137 +88 = 1225\n",
    "#thursday 589\n",
    "#monday 583 +56 = 639\n",
    "#saturday 576\n",
    "#wednesday  249 +53  = 302\n",
    "#tueday 195\n",
    "\n",
    "###uci\n",
    "#friday 343 +47 +33 +28 = 451\n",
    "#Sunday 309 +24 = 333\n",
    "#saturday 168 +18 +17 = 203\n",
    "#monday 161\n",
    "#thursday 131 +17 = 148\n",
    "#wednesday 89 +17 = 106\n",
    "#tuesday 34\n",
    "\n",
    "##ucsd_sdsu\n",
    "#friday 489 +46 +19 = 554\n",
    "#sunday 389\n",
    "#saturday 166 +16 = 182\n",
    "#thursday 146 +16 = 162\n",
    "#monday 129\n",
    "#wednesday 75 +16 = 91\n",
    "#tuesday 49\n",
    "\n",
    "\n",
    "####sjsu\n",
    "#friday 55 +6 +4 = 65\n",
    "#Sunday 48\n",
    "#thursday 24\n",
    "#Monday 21\n",
    "#Saturday 21\n",
    "#Wednesday 12\n",
    "# tuesday 8\n"
   ]
  },
  {
   "cell_type": "code",
   "execution_count": null,
   "metadata": {
    "ExecuteTime": {
     "start_time": "2021-04-23T08:01:50.929Z"
    }
   },
   "outputs": [],
   "source": [
    "55 +6 +4"
   ]
  },
  {
   "cell_type": "code",
   "execution_count": null,
   "metadata": {
    "ExecuteTime": {
     "start_time": "2021-04-23T08:01:50.932Z"
    }
   },
   "outputs": [],
   "source": [
    "days = ['Friday', 'Sunday', 'Thursday', 'Saturday', 'Monday', 'Wednesday', 'Tuesday']\n",
    "pop_days= go.Figure()\n",
    "\n",
    "pop_days.add_trace(go.Bar(\n",
    "    x=days,\n",
    "    y=[1341, 953, 646, 418, 521, 285, 314],\n",
    "    name='UCSB'))\n",
    "\n",
    "pop_days.add_trace(go.Bar(\n",
    "    x=days,\n",
    "    y=[816, 757, 281, 261, 405, 155, 155],\n",
    "    name='UC_BERK'))\n",
    "\n",
    "pop_days.add_trace(go.Bar(\n",
    "    x=days,\n",
    "    y=[1706, 1225, 589, 576, 639, 302, 195],\n",
    "    name='UCLA'))\n",
    "\n",
    "pop_days.add_trace(go.Bar(\n",
    "    x=days,\n",
    "    y=[451, 333, 148, 203, 161, 106, 34],\n",
    "    name='UCI'))\n",
    "\n",
    "pop_days.add_trace(go.Bar(\n",
    "    x=days,\n",
    "    y=[554, 389, 162, 182, 129, 91, 49],\n",
    "    name='UCSD_SDSU'))\n",
    "\n",
    "pop_days.add_trace(go.Bar(\n",
    "    x=days,\n",
    "    y=[65, 48, 24, 21, 21, 12, 8],\n",
    "    name='SJSU'))\n",
    "\n",
    "\n",
    "# Here we modify the tickangle of the xaxis, resulting in rotated labels.\n",
    "pop_days.update_layout(barmode='group', xaxis_tickangle=-45, title='Most Popular days to travel through Rideshare for all 6 FB Groups', \n",
    "                 yaxis=dict(title='Amount of Times The Day Is Mentioned'), \n",
    "                            xaxis=dict(title='Days'))\n",
    "pop_days.show()"
   ]
  },
  {
   "cell_type": "code",
   "execution_count": null,
   "metadata": {
    "ExecuteTime": {
     "start_time": "2021-04-23T08:01:50.934Z"
    }
   },
   "outputs": [],
   "source": [
    "days = ['Friday', 'Sunday', 'Thursday', 'Saturday', 'Monday', 'Wednesday', 'Tuesday']\n",
    "pop_dayscumulative= go.Figure()\n",
    "\n",
    "pop_dayscumulative.add_trace(go.Bar(\n",
    "    x=days,\n",
    "    y=[4933, 3705, 1850, 1661, 1876, 951, 755]))\n",
    "\n",
    "# Here we modify the tickangle of the xaxis, resulting in rotated labels.\n",
    "pop_dayscumulative.update_layout(barmode='group', xaxis_tickangle=-45, title='Most Popular days to travel through Rideshare for all 6 FB Groups', \n",
    "                 yaxis=dict(title='Amount of Times The Day Is Mentioned'), \n",
    "                            xaxis=dict(title='Days'))\n",
    "pop_dayscumulative.show()"
   ]
  },
  {
   "cell_type": "code",
   "execution_count": null,
   "metadata": {},
   "outputs": [],
   "source": []
  }
 ],
 "metadata": {
  "kernelspec": {
   "display_name": "Python 3",
   "language": "python",
   "name": "python3"
  },
  "language_info": {
   "codemirror_mode": {
    "name": "ipython",
    "version": 3
   },
   "file_extension": ".py",
   "mimetype": "text/x-python",
   "name": "python",
   "nbconvert_exporter": "python",
   "pygments_lexer": "ipython3",
   "version": "3.8.3"
  },
  "varInspector": {
   "cols": {
    "lenName": 16,
    "lenType": 16,
    "lenVar": 40
   },
   "kernels_config": {
    "python": {
     "delete_cmd_postfix": "",
     "delete_cmd_prefix": "del ",
     "library": "var_list.py",
     "varRefreshCmd": "print(var_dic_list())"
    },
    "r": {
     "delete_cmd_postfix": ") ",
     "delete_cmd_prefix": "rm(",
     "library": "var_list.r",
     "varRefreshCmd": "cat(var_dic_list()) "
    }
   },
   "types_to_exclude": [
    "module",
    "function",
    "builtin_function_or_method",
    "instance",
    "_Feature"
   ],
   "window_display": false
  }
 },
 "nbformat": 4,
 "nbformat_minor": 4
}
